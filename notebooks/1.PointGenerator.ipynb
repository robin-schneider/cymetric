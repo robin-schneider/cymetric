{
 "cells": [
  {
   "cell_type": "markdown",
   "source": [
    "# Exploring the Point Generators\n",
    "\n",
    "In this notebook we explore the three different point generator classes.\n",
    "\n",
    "1. The *PointGenerator* class is the base class the other two inherit from. It can be used for Complete Intersection Calabi-Yau (CICY) manifolds with a single hypersurface, e.g. the quintic, bicubic, p1p3, the tetraquadric, or a torus, some K3s ...\n",
    "2. There is the *CICYPointGenerator* which works for any CICY.\n",
    "3. There is the *ToricPointGenerator* which can generate points on any CY coming from the Kreuzer-Skarke list. NOTE: as of v0.0.1 there are still some issues with finding the correct integration weights from generalizing a theorem by Shiffman and Zelditch.\n",
    "\n",
    "The Fermat quintic manifold can be implemented in each of the three PointGenerator classes and will be used as an example.\n",
    "\n",
    "Recall that the Fermat quintic is given by the following polynomial:\n",
    "\n",
    "$$\n",
    "Q = \\sum_i^5 z_i^5\n",
    "$$\n",
    "\n",
    "in a $\\mathbb{P}^4$ ambient space."
   ],
   "metadata": {}
  },
  {
   "cell_type": "code",
   "execution_count": 1,
   "source": [
    "import numpy as np\n",
    "import os as os\n",
    "import pickle as pickle"
   ],
   "outputs": [],
   "metadata": {
    "scrolled": true
   }
  },
  {
   "cell_type": "markdown",
   "source": [
    "## PointGenerator\n",
    "\n",
    "First we load the PointGenerator from the cymetric package."
   ],
   "metadata": {}
  },
  {
   "cell_type": "code",
   "execution_count": 2,
   "source": [
    "from cymetric.pointgen.pointgen import PointGenerator"
   ],
   "outputs": [],
   "metadata": {}
  },
  {
   "cell_type": "markdown",
   "source": [
    "In general all routines and classes of the cymetric package will have a brief description of their functionality and their arguments. You can access it with the help function."
   ],
   "metadata": {}
  },
  {
   "cell_type": "code",
   "execution_count": 3,
   "source": [
    "help(PointGenerator)"
   ],
   "outputs": [
    {
     "output_type": "stream",
     "name": "stdout",
     "text": [
      "Help on class PointGenerator in module cymetric.pointgen.pointgen:\n",
      "\n",
      "class PointGenerator(builtins.object)\n",
      " |  PointGenerator(monomials, coefficients, kmoduli, ambient, vol_j_norm=1, verbose=2, backend='multiprocessing')\n",
      " |  \n",
      " |  The PointGenerator class.\n",
      " |  \n",
      " |  The numerics are entirely done in numpy; sympy is used for taking \n",
      " |  (implicit) derivatives.\n",
      " |  \n",
      " |  Use this one if you want to generate points and data on a CY given by\n",
      " |  one hypersurface.\n",
      " |  \n",
      " |  All other PointGenerators inherit from this class.\n",
      " |  \n",
      " |  Example:\n",
      " |      We consider the Fermat quintic given by\n",
      " |  \n",
      " |      .. math::\n",
      " |  \n",
      " |          Q(z) = z_1^5 + z_2^5 + z_3^5 + z_4^5 + z_5^5\n",
      " |  \n",
      " |      and set it up with:\n",
      " |  \n",
      " |      >>> import numpy as np\n",
      " |      >>> from cymetric.pointgen.pointgen import PointGenerator\n",
      " |      >>> monomials = 5*np.eye(5, dtype=np.int)\n",
      " |      >>> coefficients = np.ones(5)\n",
      " |      >>> kmoduli = np.ones(1)\n",
      " |      >>> ambient = np.array([4])\n",
      " |      >>> pg = PointGenerator(monomials, coefficients, kmoduli, ambient)\n",
      " |  \n",
      " |      Once the PointGenerator is initialized you can generate a training\n",
      " |      dataset with \n",
      " |  \n",
      " |      >>> pg.prepare_dataset(number_of_points, dir_name) \n",
      " |  \n",
      " |      and prepare the required tensorflow model data with \n",
      " |      \n",
      " |      >>> pg.prepare_basis(dir_name)\n",
      " |  \n",
      " |  Methods defined here:\n",
      " |  \n",
      " |  __call__(self, points, vol_js=None)\n",
      " |      Computes the FS metric at each point.\n",
      " |      \n",
      " |      Args:\n",
      " |          points (ndarray[(n_p, ncoords), np.complex128]): Points.\n",
      " |          vol_js (ndarray[(h^{(1,1)}), np.complex128]): vol_j factors. \n",
      " |              Defaults to None.\n",
      " |      \n",
      " |      Returns:\n",
      " |          ndarray[(n_p, ncoords, ncoords), np.complex128]: g^FS\n",
      " |  \n",
      " |  __init__(self, monomials, coefficients, kmoduli, ambient, vol_j_norm=1, verbose=2, backend='multiprocessing')\n",
      " |      The PointGenerator uses the *joblib* module to parallelize \n",
      " |      computations. \n",
      " |      \n",
      " |      Args:\n",
      " |          monomials (ndarray[(nMonomials, ncoords), np.int]): monomials\n",
      " |          coefficients (ndarray[(nMonomials)]): coefficients in front of each\n",
      " |              monomial.\n",
      " |          kmoduli (ndarray[(nProj)]): the kaehler moduli.\n",
      " |          ambient (ndarray[(nProj), np.int]): the direct product of projective\n",
      " |              spaces making up the ambient space.\n",
      " |          vol_j_norm (float, optional): Normalization of the volume of the\n",
      " |              Calabi-Yau X as computed from\n",
      " |      \n",
      " |              .. math:: \\int_X J^n \\; \\text{ at } \\; t_1=t_2=...=t_n = 1.\n",
      " |      \n",
      " |              Defaults to 1.\n",
      " |          verbose (int, optional): Controls logging. 1-Debug, 2-Info,\n",
      " |              else Warning. Defaults to 2.\n",
      " |          backend (str, optional): Backend for Parallel. Defaults to\n",
      " |              'multiprocessing'. 'loky' makes issues with pickle5.\n",
      " |  \n",
      " |  compute_kappa(self, pw=[])\n",
      " |      We compute kappa from the Monge-Ampère equation\n",
      " |      \n",
      " |      .. math:: J^3 = \\kappa |\\Omega|^2\n",
      " |      \n",
      " |      such that after integrating we find\n",
      " |      \n",
      " |      .. math::\n",
      " |      \n",
      " |          \\kappa = \\frac{J^3}{|\\Omega|^2} =\n",
      " |              \\frac{\\text{Vol}_K}{\\text{Vol}_{\\text{CY}}}\n",
      " |      \n",
      " |      Args:\n",
      " |          pw (ndarray[(points, weight, omega)], optional): \n",
      " |              point weights generated from:\n",
      " |      \n",
      " |              >>> self.generate_point_weights(np, omega=True)\n",
      " |          \n",
      " |              Defaults to [], which then generates 10000 pws.\n",
      " |      \n",
      " |      Returns:\n",
      " |          np.float: kappa\n",
      " |  \n",
      " |  cy_condition(self, points)\n",
      " |      Computes the CY condition at each point.\n",
      " |      \n",
      " |      Args:\n",
      " |          points (ndarray([n_p, ncoords], np.complex128)): Points (on the CY).\n",
      " |      \n",
      " |      Returns:\n",
      " |          ndarray(n_p, np.complex128): CY condition\n",
      " |  \n",
      " |  fubini_study_metrics(self, points, vol_js=None)\n",
      " |      Computes the FS metric at each point.\n",
      " |      \n",
      " |      Args:\n",
      " |          points (ndarray[(n_p, ncoords), np.complex128]): Points.\n",
      " |          vol_js (ndarray[(h^{(1,1)}), np.complex128]): vol_j factor.\n",
      " |              Defaults to None.\n",
      " |      \n",
      " |      Returns:\n",
      " |          ndarray[(n_p, ncoords, ncoords), np.complex128]: g^FS\n",
      " |  \n",
      " |  generate_pn_points(self, n_p, n)\n",
      " |      Generates points on the sphere :math:`S^{2n+1}`.\n",
      " |      \n",
      " |      Args:\n",
      " |          n_p (int): number of points.\n",
      " |          n (int): degree of projective space.\n",
      " |      \n",
      " |      Returns:\n",
      " |          ndarray[(np, n+1), np.complex128]: complex points\n",
      " |  \n",
      " |  generate_point_weights(self, n_pw, omega=False)\n",
      " |      Generates a numpy dictionary of point weights.\n",
      " |      \n",
      " |      Args:\n",
      " |          n_pw (int): # of point weights.\n",
      " |          omega (bool, optional): If True adds Omega to dict.\n",
      " |              Defaults to False.\n",
      " |      \n",
      " |      Returns:\n",
      " |          np.dict: point weights\n",
      " |  \n",
      " |  generate_points(self, n_p, nproc=-1, batch_size=5000)\n",
      " |      Generates complex points on the CY.\n",
      " |      \n",
      " |      The points are automatically scaled, such that the largest \n",
      " |      coordinate in each projective space is 1+0.j.\n",
      " |      \n",
      " |      Args:\n",
      " |          n_p (int): # of points.\n",
      " |          nproc (int, optional): # of jobs used. Defaults to -1. Then\n",
      " |              uses all available resources.\n",
      " |          batch_size (int, optional): batch_size of Parallel. \n",
      " |              Defaults to 5000.\n",
      " |      \n",
      " |      Returns:\n",
      " |          ndarray[(n_p, ncoords), np.complex128]: rescaled points\n",
      " |  \n",
      " |  holomorphic_volume_form(self, points, j_elim=None)\n",
      " |      We compute the holomorphic volume form\n",
      " |      at all points by solving the residue theorem:\n",
      " |      \n",
      " |      .. math::\n",
      " |      \n",
      " |          \\Omega &= \\int_\\rho \\frac{1}{Q} \\wedge^n dz_i \\\\\n",
      " |                 &= \\frac{1}{\\frac{\\partial Q}{\\partial z_j}}\\wedge^{n-1} dz_a\n",
      " |      \n",
      " |      where the index a runs over the local n-fold good coordinates.\n",
      " |      \n",
      " |      Args:\n",
      " |          points (ndarray[(n_p, ncoords), np.complex128]): Points.\n",
      " |          j_elim (ndarray([n_p], np.int64)): index to be eliminated. \n",
      " |              Defaults not None. If None eliminates max(dQdz).\n",
      " |      \n",
      " |      Returns:\n",
      " |          ndarray[(n_p), np.complex128]: Omega evaluated at each point.\n",
      " |  \n",
      " |  point_weight(self, points, normalize_to_vol_j=False, j_elim=None)\n",
      " |      We compute the weight/mass of each point:\n",
      " |      \n",
      " |      .. math::\n",
      " |      \n",
      " |          w &= \\frac{d\\text{Vol}_\\text{cy}}{dA}|_p \\\\\n",
      " |            &\\sim \\frac{|\\Omega|^2}{\\det(g^\\text{FS}_{ab})}|_p\n",
      " |      \n",
      " |      the weight depends on the distribution of free parameters during \n",
      " |      point sampling. We employ a theorem due to Shiffman and Zelditch. \n",
      " |      See also: [9803052].\n",
      " |      \n",
      " |      Args:\n",
      " |          points (ndarray([n_p, ncoords], np.complex128)): Points.\n",
      " |          normalize_to_vol_j (bool, optional): Normalize such that\n",
      " |      \n",
      " |              .. math::\n",
      " |      \n",
      " |                  \\int_X \\det(g) &= \\sum_i \\sqrt{\\det(g)} \\cdot w|_{x_i}\\\\\n",
      " |                              &= d^{ijk} t_i t_j t_k.\n",
      " |      \n",
      " |              Defaults to False.\n",
      " |          j_elim (ndarray([n_p, nhyper], np.int64)): Index to be eliminated. \n",
      " |              Defaults to None. If None eliminates max(dQdz).\n",
      " |      \n",
      " |      Returns:\n",
      " |          ndarray([n_p], np.float64): weight at each point.\n",
      " |  \n",
      " |  prepare_basis(self, dirname)\n",
      " |      Prepares pickled monomial basis for the tensorflow models.\n",
      " |      \n",
      " |      Args:\n",
      " |          dirname (str): dir name to save\n",
      " |      \n",
      " |      Returns:\n",
      " |          int: 0\n",
      " |  \n",
      " |  prepare_dataset(self, n_p, dirname, val_split=0.1, ltails=0, rtails=0)\n",
      " |      Prepares training and validation data.\n",
      " |      \n",
      " |      Args:\n",
      " |          n_p (int): Number of points to generate.\n",
      " |          dirname (str): Directory name to save dataset in.\n",
      " |          val_split (float, optional): train-val split. Defaults to 0.1.\n",
      " |          ltails (float, optional): Percentage discarded on the left tail\n",
      " |              of weight distribution. Defaults to 0.\n",
      " |          rtails (float, optional): Percentage discarded on the right tail\n",
      " |              of weight distribution. Defaults to 0.\n",
      " |      \n",
      " |      Returns:\n",
      " |          int: 0\n",
      " |  \n",
      " |  pullbacks(self, points, j_elim=None)\n",
      " |      Computes the pullback from ambient space to local CY coordinates\n",
      " |      at each point. \n",
      " |      \n",
      " |      Denote the ambient space coordinates with z_i and the CY\n",
      " |      coordinates with x_a then\n",
      " |      \n",
      " |      .. math::\n",
      " |      \n",
      " |          J^i_a = \\frac{dz_i}{dx_a}\n",
      " |      \n",
      " |      Args:\n",
      " |          points (ndarray([n_p, ncoords], np.complex128)): Points.\n",
      " |          j_elim (ndarray([n_p, nhyper], np.int64)): Index to be eliminated. \n",
      " |              Defaults to None. If None eliminates max(dQdz).\n",
      " |      \n",
      " |      Returns:\n",
      " |          ndarray([n_p, nfold, ncoords], np.complex128): Pullback tensor \n",
      " |              at each point.\n",
      " |  \n",
      " |  ----------------------------------------------------------------------\n",
      " |  Data descriptors defined here:\n",
      " |  \n",
      " |  __dict__\n",
      " |      dictionary for instance variables (if defined)\n",
      " |  \n",
      " |  __weakref__\n",
      " |      list of weak references to the object (if defined)\n",
      "\n"
     ]
    }
   ],
   "metadata": {}
  },
  {
   "cell_type": "markdown",
   "source": [
    "In the next step we define the five defining monomials, the coefficients in front of each monomial, the single Kähler moduli, and the ambient space projective factor(s):"
   ],
   "metadata": {}
  },
  {
   "cell_type": "code",
   "execution_count": 4,
   "source": [
    "monomials = 5*np.eye(5, dtype=np.int64)\n",
    "coefficients = np.ones(5)\n",
    "kmoduli = np.ones(1)\n",
    "ambient = np.array([4])"
   ],
   "outputs": [],
   "metadata": {}
  },
  {
   "cell_type": "markdown",
   "source": [
    "We can now initiate the PointGenerator"
   ],
   "metadata": {}
  },
  {
   "cell_type": "code",
   "execution_count": 5,
   "source": [
    "pg = PointGenerator(monomials, coefficients, kmoduli, ambient)"
   ],
   "outputs": [],
   "metadata": {}
  },
  {
   "cell_type": "markdown",
   "source": [
    "and generate some (100) points:"
   ],
   "metadata": {}
  },
  {
   "cell_type": "code",
   "execution_count": 6,
   "source": [
    "points = pg.generate_points(100)\n",
    "points"
   ],
   "outputs": [
    {
     "output_type": "execute_result",
     "data": {
      "text/plain": [
       "array([[-0.26571881-9.17297455e-01j, -0.36345359+2.42049070e-01j,\n",
       "         1.        +0.00000000e+00j, -0.59842131-1.43934436e-01j,\n",
       "        -0.35605605-6.91997143e-01j],\n",
       "       [ 1.        +5.55111512e-17j, -0.31804611-5.70832600e-01j,\n",
       "         0.78152219+6.00384439e-01j,  0.15162194-1.69715014e-02j,\n",
       "         0.31991803-3.70442042e-01j],\n",
       "       [ 1.        -2.77555756e-17j, -0.23516908-2.60266458e-01j,\n",
       "        -0.77837294+1.05176966e-01j,  0.81948808-4.76754593e-01j,\n",
       "         0.66788379+2.93563540e-01j],\n",
       "       [ 0.8244501 +5.64605799e-01j, -0.16831985-6.66244130e-01j,\n",
       "         1.        -5.55111512e-17j,  0.28974831+6.27956749e-01j,\n",
       "        -0.05495057-4.40566702e-02j],\n",
       "       [-0.18569486+7.50333720e-01j,  0.24012511-3.46593059e-01j,\n",
       "         1.        +5.55111512e-17j, -0.31459026+8.85538129e-01j,\n",
       "        -0.45377699-5.09986505e-02j],\n",
       "       [-0.62309363+5.81626089e-02j, -0.4679331 +6.79700462e-02j,\n",
       "        -0.54795213-2.22345813e-02j,  1.        +0.00000000e+00j,\n",
       "        -0.96779248-1.11035419e-02j],\n",
       "       [ 0.6151586 +5.02496461e-01j,  0.20277662+2.12125075e-01j,\n",
       "         0.69096857-5.43960610e-01j, -0.21092906-6.76952419e-01j,\n",
       "         1.        -5.55111512e-17j],\n",
       "       [-0.06687156+8.13012725e-01j, -0.12636794+2.35216799e-01j,\n",
       "         1.        -2.77555756e-17j,  0.62081991-4.62641390e-01j,\n",
       "         0.68449549+6.20708350e-01j],\n",
       "       [-0.22088826+5.13983953e-02j, -0.43545847-2.14476486e-02j,\n",
       "        -0.21796997-9.32611797e-01j,  1.        +5.55111512e-17j,\n",
       "        -0.40243005-7.36729788e-01j],\n",
       "       [-0.20427673+4.96789283e-01j, -0.33566951+1.24990126e-02j,\n",
       "         0.79798426-5.87712316e-01j,  1.        +0.00000000e+00j,\n",
       "         0.41420206-1.26898577e-01j],\n",
       "       [ 1.        +0.00000000e+00j,  0.43919275-5.64977454e-01j,\n",
       "        -0.13761318+1.77038138e-01j, -0.99660668-3.84586551e-02j,\n",
       "         0.21556092-2.65341934e-01j],\n",
       "       [-0.23705855-7.92316729e-01j, -0.90831188+1.40218676e-02j,\n",
       "         0.290781  -6.89568624e-02j,  1.        +0.00000000e+00j,\n",
       "        -0.12351025+1.51050214e-01j],\n",
       "       [-0.30869249+9.48795352e-01j,  0.23620423+1.95065591e-01j,\n",
       "        -0.0107252 -4.35292583e-02j,  1.        +0.00000000e+00j,\n",
       "        -0.09747567+3.77996862e-01j],\n",
       "       [ 1.        +5.55111512e-17j, -0.17642877-8.86536198e-01j,\n",
       "         0.15222953+2.33899432e-01j,  0.78858911+4.40597322e-01j,\n",
       "        -0.04064984+1.42153042e-01j],\n",
       "       [ 1.        -2.77555756e-17j, -0.266115  -5.15690274e-01j,\n",
       "         0.14406385+7.18492726e-02j,  0.80697206-5.74602819e-01j,\n",
       "         0.21057851+2.24633474e-01j],\n",
       "       [-0.97642657-1.18281211e-01j, -0.54971234-2.36384054e-01j,\n",
       "         0.39796663-1.14007590e-01j,  1.        +5.55111512e-17j,\n",
       "        -0.47513912-7.89259380e-01j],\n",
       "       [ 0.53683464+1.27315554e-01j,  0.68373074+4.07316659e-01j,\n",
       "        -0.48526102+2.81983742e-01j, -0.95757917-5.13178620e-02j,\n",
       "         1.        +0.00000000e+00j],\n",
       "       [-0.32889758-9.37128594e-01j, -0.26507604-1.99401707e-01j,\n",
       "         0.02728669+5.63371790e-02j,  0.42404338+5.00365959e-01j,\n",
       "         1.        +0.00000000e+00j],\n",
       "       [-0.4493651 -5.90970295e-01j, -0.95829549-1.99839687e-01j,\n",
       "         0.26353682-4.79926875e-01j,  1.        +0.00000000e+00j,\n",
       "        -0.16298402+9.36587889e-01j],\n",
       "       [-0.99569717-2.78396736e-02j, -0.55065913+6.80971196e-01j,\n",
       "        -0.25849655-3.04414900e-01j,  0.5760562 -7.12758228e-01j,\n",
       "         1.        +0.00000000e+00j],\n",
       "       [ 0.73673442+5.67735415e-01j, -0.097059  +4.07681716e-01j,\n",
       "        -0.02244561-6.51295915e-01j,  0.58873651-5.56037973e-01j,\n",
       "         1.        -2.77555756e-17j],\n",
       "       [-0.78144599-7.98111059e-02j, -0.18875545-6.32192267e-01j,\n",
       "         1.        +0.00000000e+00j,  0.26845755+3.50870535e-01j,\n",
       "        -0.23301686+8.83778430e-01j],\n",
       "       [ 1.        -5.55111512e-17j,  0.68826221+5.12054052e-01j,\n",
       "        -0.26577308+8.42339749e-01j,  0.27872329+3.66972257e-02j,\n",
       "        -0.16581781-2.47134511e-01j],\n",
       "       [ 0.81742186+5.48932524e-01j,  0.34054565+3.40266796e-01j,\n",
       "         0.54425475+2.94974955e-01j,  1.        +0.00000000e+00j,\n",
       "         0.42912064+5.90618763e-01j],\n",
       "       [ 0.64392447-4.49542253e-01j,  0.53675892-3.34578736e-01j,\n",
       "         1.        +5.55111512e-17j,  0.70007631-5.46623220e-01j,\n",
       "         0.44192776+3.89092924e-01j],\n",
       "       [ 0.7325586 -2.72729312e-01j,  1.        +5.55111512e-17j,\n",
       "        -0.36234071-9.27753282e-01j,  0.09745251-8.14818702e-02j,\n",
       "         0.19448162-2.72829791e-01j],\n",
       "       [ 1.        +2.77555756e-17j,  0.56357791+3.57562922e-01j,\n",
       "         0.75480354-6.35762189e-01j,  0.11799942-2.08311537e-01j,\n",
       "         0.77985807-2.52406213e-01j],\n",
       "       [ 0.54854996-4.93480576e-01j, -0.24528616-1.74349626e-01j,\n",
       "         1.        +0.00000000e+00j, -0.08081971-3.48946233e-01j,\n",
       "         0.79098432-5.43620181e-01j],\n",
       "       [ 0.44305971+5.59495435e-01j,  1.        +5.55111512e-17j,\n",
       "        -0.96557101-4.75265030e-03j,  0.36120762+1.51131017e-01j,\n",
       "        -0.08191766+7.38934131e-01j],\n",
       "       [ 1.        -5.55111512e-17j,  0.80882039-5.20561874e-01j,\n",
       "        -0.29086376+3.35328690e-01j,  0.34175268-2.28749161e-01j,\n",
       "         0.71654674+3.48421590e-01j],\n",
       "       [ 0.81441382+5.00137940e-01j,  1.        +0.00000000e+00j,\n",
       "         0.08576143-5.52528228e-02j, -0.11826938-8.25239069e-01j,\n",
       "         0.02155068+3.21766897e-01j],\n",
       "       [ 0.10082677+1.61157597e-01j,  1.        +0.00000000e+00j,\n",
       "        -0.22721213+5.74180733e-02j,  0.80341571-5.90657096e-01j,\n",
       "        -0.48905059-1.09496936e-01j],\n",
       "       [ 1.        +0.00000000e+00j,  0.26210338-1.56495179e-01j,\n",
       "         0.22285026-2.40620965e-01j, -0.99592849-2.88988378e-02j,\n",
       "         0.63617917+2.30807448e-01j],\n",
       "       [-0.20866856-7.76979226e-01j,  0.83405242-5.37402690e-01j,\n",
       "        -0.5273322 +2.90670530e-02j,  1.        +0.00000000e+00j,\n",
       "        -0.59212281-6.11591141e-01j],\n",
       "       [ 1.        +0.00000000e+00j,  0.80363786+5.65086733e-01j,\n",
       "         0.02885652-4.39383449e-01j, -0.17032154+4.34334375e-01j,\n",
       "         0.53534273-2.98977309e-01j],\n",
       "       [ 0.06655603-4.10864264e-01j,  0.81462189-5.54841368e-01j,\n",
       "        -0.32576318-3.78562410e-01j,  0.48063488-4.97282730e-01j,\n",
       "         1.        -5.55111512e-17j],\n",
       "       [ 0.54402125-3.36163798e-01j,  0.509707  +1.70289306e-01j,\n",
       "        -0.37352695-3.35454839e-01j,  1.        +0.00000000e+00j,\n",
       "         0.79407776+5.82572026e-01j],\n",
       "       [-0.39584024+9.78493266e-02j,  0.8133262 +5.80123414e-01j,\n",
       "         1.        +0.00000000e+00j, -0.5606316 -8.98574670e-02j,\n",
       "        -0.40860911+3.35160029e-01j],\n",
       "       [-0.61390548+2.92339452e-01j,  0.54530134+1.96442151e-01j,\n",
       "         1.        +0.00000000e+00j, -0.99728298-3.71636492e-02j,\n",
       "        -0.63721335+3.76844870e-03j],\n",
       "       [ 0.58945529-3.78602700e-01j, -0.28216589+9.33241502e-01j,\n",
       "        -0.33976698+3.81781947e-01j,  1.        +0.00000000e+00j,\n",
       "         0.19222157+4.36419267e-01j],\n",
       "       [ 0.68253489-4.17999522e-01j, -0.27560337-8.68128276e-01j,\n",
       "        -0.09399871+6.74395643e-01j,  0.06243079+5.25914431e-01j,\n",
       "         1.        -3.46944695e-18j],\n",
       "       [-0.12607175-5.57540213e-01j, -0.98849377+7.30342561e-03j,\n",
       "         0.19004767+4.40129481e-01j,  0.3944553 +2.69554258e-01j,\n",
       "         1.        +5.55111512e-17j],\n",
       "       [ 0.81420701+4.11780095e-01j,  0.80820483-4.66157023e-01j,\n",
       "        -0.41481674+4.76422488e-01j, -0.29563858+2.88733049e-01j,\n",
       "         1.        +3.46944695e-18j],\n",
       "       [ 0.56737995+5.44340661e-01j,  1.        -5.55111512e-17j,\n",
       "        -0.18695499+2.93223833e-01j, -0.22211769+3.36949248e-02j,\n",
       "         0.74277723-5.98164229e-01j],\n",
       "       [ 0.3461668 +3.94296897e-01j,  1.        -2.77555756e-17j,\n",
       "         0.07862996-6.37442182e-02j, -0.1948906 -1.78249246e-01j,\n",
       "        -0.31474638-9.45784652e-01j],\n",
       "       [-0.26434892+5.78383359e-01j,  1.        +0.00000000e+00j,\n",
       "        -0.28501691+2.88151530e-01j, -0.27750431+9.43077498e-01j,\n",
       "         0.54357353-1.97337441e-01j],\n",
       "       [-0.75245645+1.41905198e-01j,  0.15457149-3.92623919e-01j,\n",
       "        -0.2333431 -6.38052895e-02j, -0.34655063+9.11571134e-01j,\n",
       "         1.        +0.00000000e+00j],\n",
       "       [-0.65648946-7.87129140e-02j, -0.21962574-9.39194558e-01j,\n",
       "        -0.04359659-1.34551154e-01j, -0.05303008+8.44683666e-01j,\n",
       "         1.        -2.77555756e-17j],\n",
       "       [ 1.        +1.11022302e-16j,  0.45650943-1.70956388e-02j,\n",
       "         0.3039302 +2.87080567e-01j,  0.44435444-5.65137382e-01j,\n",
       "        -0.99715609-3.59427212e-02j],\n",
       "       [ 1.        +0.00000000e+00j,  0.74821867-5.68382129e-01j,\n",
       "         0.36694402+3.70925784e-01j,  0.48780056-1.72042450e-01j,\n",
       "        -0.75221143-8.21652745e-03j],\n",
       "       [ 1.        +0.00000000e+00j,  0.43694957-5.64073839e-02j,\n",
       "         0.63850055+1.07667756e-01j, -0.86514187-2.35896501e-02j,\n",
       "         0.73105852+5.34265569e-01j],\n",
       "       [ 0.30641799+4.60279808e-01j,  1.        +0.00000000e+00j,\n",
       "         0.6384994 +6.09147040e-01j, -0.90826524+5.45483105e-02j,\n",
       "         0.68903444+2.19620620e-01j],\n",
       "       [ 1.        -2.77555756e-17j, -0.20658239-8.54927776e-01j,\n",
       "         0.67745973-5.68027780e-01j, -0.02607672+4.29294765e-01j,\n",
       "         0.05310867-7.48730321e-02j],\n",
       "       [ 1.        +0.00000000e+00j, -0.85608911+1.57589416e-01j,\n",
       "        -0.08880724-3.60479156e-01j,  0.16625976-6.72439192e-01j,\n",
       "        -0.37290583+9.05618326e-01j],\n",
       "       [-0.34474259-6.69648104e-01j,  0.68377994+6.36010707e-01j,\n",
       "        -0.1241454 +3.66427836e-01j, -0.79244592+1.22040016e-01j,\n",
       "         1.        +0.00000000e+00j],\n",
       "       [ 0.19519246+5.05966128e-01j, -0.98886799+8.82286637e-02j,\n",
       "         0.55371005+6.42618549e-01j,  1.        -1.38777878e-17j,\n",
       "         0.29728202-1.52318828e-02j],\n",
       "       [-0.12633806-5.79454023e-01j,  1.        -5.55111512e-17j,\n",
       "         0.66841858-3.59025643e-01j, -0.33844853-8.84834165e-01j,\n",
       "        -0.2687263 -2.17045264e-02j],\n",
       "       [ 0.08673238+4.68601115e-01j, -0.93949125-4.89212131e-02j,\n",
       "         1.        +5.55111512e-17j,  0.60519482-5.42769385e-01j,\n",
       "         0.28312861+1.71482420e-03j],\n",
       "       [-0.07789429-5.77928614e-01j,  1.        -5.55111512e-17j,\n",
       "         0.77448535+6.23803580e-01j,  0.46592009-6.28169847e-01j,\n",
       "        -0.25139619-1.59977350e-03j],\n",
       "       [-0.06956969-5.23702382e-01j,  1.        +0.00000000e+00j,\n",
       "        -0.29731273+9.45169574e-01j,  0.34670058+3.20070884e-01j,\n",
       "        -0.27018447+2.18453507e-02j],\n",
       "       [ 0.14022875-1.53889720e-01j,  1.        +0.00000000e+00j,\n",
       "        -0.63960124-1.83927234e-01j,  0.82176234+5.64873147e-01j,\n",
       "        -0.00100808+4.48891299e-02j],\n",
       "       [ 0.73519654-2.94282841e-01j,  1.        +0.00000000e+00j,\n",
       "        -0.36459331-9.19751855e-01j, -0.024635  +1.37691473e-01j,\n",
       "         0.10624399+2.91585091e-01j],\n",
       "       [-0.59194984+7.18882030e-02j, -0.00405718-4.40849279e-01j,\n",
       "        -0.31028457+9.37017046e-01j,  1.        +0.00000000e+00j,\n",
       "        -0.0787162 -2.16071229e-01j],\n",
       "       [ 0.61908372+3.80667517e-01j,  1.        -5.55111512e-17j,\n",
       "         0.27345063-3.13614257e-01j,  0.78686891-5.47631933e-01j,\n",
       "        -0.19511651+2.93999200e-01j],\n",
       "       [-0.25872568+8.91023073e-01j,  0.12251371+6.44149524e-01j,\n",
       "         0.64767728+5.51468145e-01j,  1.        +5.55111512e-17j,\n",
       "        -0.41323484-9.35744707e-02j],\n",
       "       [ 0.61334252+6.47838272e-01j, -0.29318881+9.13450363e-01j,\n",
       "         0.42532618-4.10695174e-01j, -0.77801199+3.40723904e-01j,\n",
       "         1.        +0.00000000e+00j],\n",
       "       [-0.22277193+6.92620407e-01j, -0.57389657-3.89176577e-01j,\n",
       "         1.        +0.00000000e+00j,  0.13763017-3.25411607e-01j,\n",
       "         0.8048578 +5.79512694e-01j],\n",
       "       [-0.34448015+4.07163507e-01j, -0.32739471-8.58371745e-01j,\n",
       "         1.        -5.55111512e-17j,  0.6879651 -3.45708895e-01j,\n",
       "         0.62134743+3.85964168e-01j],\n",
       "       [ 0.59566689+3.26605346e-01j,  0.46520483+6.34561016e-01j,\n",
       "         0.54802368-7.72816573e-02j, -0.25546544+9.56247293e-01j,\n",
       "         1.        +1.38777878e-17j],\n",
       "       [ 0.17433892+4.35246744e-03j,  0.13985303-7.15318019e-01j,\n",
       "         0.73936226-5.62896564e-01j,  1.        +0.00000000e+00j,\n",
       "         0.6908017 -5.19468331e-01j],\n",
       "       [-0.61721823-3.46658625e-01j, -0.40636187+8.75080007e-01j,\n",
       "         1.        +0.00000000e+00j, -0.13985413+9.32357319e-01j,\n",
       "         0.11797315+5.38732492e-01j],\n",
       "       [ 0.78098506+3.53495752e-01j,  0.58431997-4.21600359e-01j,\n",
       "        -0.8633745 +1.88982632e-01j,  1.        -5.55111512e-17j,\n",
       "        -0.06691161-9.80785383e-01j],\n",
       "       [-0.27747988+8.29358167e-01j,  0.27839791+3.01109590e-01j,\n",
       "        -0.44218004-8.24856252e-01j, -0.50883574+7.17581659e-01j,\n",
       "         1.        +0.00000000e+00j],\n",
       "       [-0.57051808-1.03065301e-02j,  0.50824523+6.07427201e-01j,\n",
       "         0.74885039-6.26662460e-01j,  1.        +0.00000000e+00j,\n",
       "         0.04195458+2.64889192e-01j],\n",
       "       [-0.00157557-7.05907128e-01j, -0.07429307+2.91892308e-01j,\n",
       "         0.80190261+5.32209615e-01j,  1.        +0.00000000e+00j,\n",
       "        -0.71614959+5.98417650e-04j],\n",
       "       [-0.43261431+3.75512694e-01j,  1.        +0.00000000e+00j,\n",
       "         0.78743369-5.92356778e-01j,  0.5573261 -3.45233365e-01j,\n",
       "         0.34261289+2.95317445e-01j],\n",
       "       [-0.59848084+1.03483910e-01j,  1.        +6.93889390e-18j,\n",
       "         0.7063179 +3.64658461e-01j,  0.83241279-4.80108782e-01j,\n",
       "        -0.00691522+6.65599871e-01j],\n",
       "       [-0.22448851-1.38408726e-01j, -0.30071699+9.33722862e-01j,\n",
       "         1.        +0.00000000e+00j, -0.20728964+5.87093873e-01j,\n",
       "         0.20635541+7.78104566e-02j],\n",
       "       [-0.21720947+4.35351608e-01j, -0.01734459-7.11410110e-01j,\n",
       "         1.        +0.00000000e+00j, -0.3403699 -8.73286498e-01j,\n",
       "         0.61803783+4.52953522e-01j],\n",
       "       [ 0.02399014+1.29090021e-01j, -0.86968251+3.67899565e-02j,\n",
       "         1.        +5.55111512e-17j, -0.89376488-4.48410590e-02j,\n",
       "         0.56073946+7.89182115e-02j],\n",
       "       [ 0.18842053-4.23440852e-01j, -0.63130514-1.33362532e-01j,\n",
       "        -0.3131777 +4.06725639e-01j, -0.2837503 +9.53525899e-01j,\n",
       "         1.        +0.00000000e+00j],\n",
       "       [ 1.        -5.55111512e-17j, -0.04329063-3.31161741e-01j,\n",
       "        -0.23027751-2.61186238e-01j, -0.9005209 -6.87449706e-02j,\n",
       "         0.74723731+4.43029401e-01j],\n",
       "       [ 1.        +0.00000000e+00j,  0.02178831+3.78650330e-01j,\n",
       "         0.33307876-1.79672638e-01j, -0.04956683-1.80067027e-01j,\n",
       "         0.8086689 -5.86871174e-01j],\n",
       "       [ 0.04571404+7.33067425e-01j, -0.34149962+7.54117288e-01j,\n",
       "         0.69467048+4.20478371e-01j,  1.        +2.77555756e-17j,\n",
       "         0.71704117-4.51387539e-01j],\n",
       "       [-0.20640941+9.13583108e-01j, -0.38364844+6.26404932e-01j,\n",
       "         0.62092723+4.94557047e-01j,  1.        +5.55111512e-17j,\n",
       "         0.56586073-1.12576608e-01j],\n",
       "       [ 1.        +5.55111512e-17j, -0.58681877-4.17016411e-03j,\n",
       "         0.56180498+5.55571184e-01j,  0.72940478-5.98518436e-01j,\n",
       "         0.14355332+3.65859118e-01j],\n",
       "       [ 1.        +0.00000000e+00j, -0.30474095+6.02073653e-01j,\n",
       "         0.69366019-5.67013786e-01j,  0.17746506-7.73807221e-01j,\n",
       "        -0.26266707+8.74457493e-01j],\n",
       "       [-0.13469794-6.77156151e-01j,  0.56381149-2.44839316e-01j,\n",
       "        -0.97125866+3.71560268e-02j, -0.37925713+2.74291238e-01j,\n",
       "         1.        +0.00000000e+00j],\n",
       "       [-0.27418113-9.54232400e-01j, -0.37096732+4.08100941e-01j,\n",
       "         1.        +2.77555756e-17j, -0.36423818-7.78962859e-01j,\n",
       "         0.21437132-7.63749516e-01j],\n",
       "       [ 0.57621858-5.30294203e-01j, -0.13349741-4.18114720e-01j,\n",
       "        -0.32409807+8.84717055e-01j,  0.4453352 -1.73852228e-01j,\n",
       "         1.        +0.00000000e+00j],\n",
       "       [-0.97519745+8.04257319e-02j,  0.15962251-1.28096660e-01j,\n",
       "        -0.05463867-8.65771461e-02j,  0.76499411-3.28862699e-01j,\n",
       "         1.        +0.00000000e+00j],\n",
       "       [ 1.        +0.00000000e+00j, -0.34098809-3.23852764e-02j,\n",
       "        -0.12658168-5.20000276e-01j, -0.30166351+9.41901331e-01j,\n",
       "        -0.38953945-1.40558802e-02j],\n",
       "       [-0.30532865+9.27210099e-02j, -0.1409432 -2.11661491e-01j,\n",
       "        -0.21935928-6.84870030e-01j,  0.77504396+5.63191783e-01j,\n",
       "         1.        -2.77555756e-17j],\n",
       "       [ 1.        +0.00000000e+00j, -0.50965549+2.17332943e-01j,\n",
       "        -0.91003086-1.77513144e-01j,  0.50031539+1.49928968e-01j,\n",
       "        -0.40928064-8.62942157e-01j],\n",
       "       [ 0.48638346-4.07258055e-01j, -0.3485984 +3.15484783e-01j,\n",
       "        -0.97184777+2.29311872e-03j,  1.        +0.00000000e+00j,\n",
       "        -0.11934217-5.66753119e-01j],\n",
       "       [ 1.        +0.00000000e+00j, -0.30253683-7.39294340e-01j,\n",
       "        -0.17599412-8.19805645e-01j, -0.1177556 +5.40683241e-01j,\n",
       "        -0.21138387+7.55212030e-01j],\n",
       "       [ 1.        +0.00000000e+00j, -0.92167033-1.61683027e-01j,\n",
       "        -0.656829  -7.38993079e-02j, -0.16036555+3.07520008e-01j,\n",
       "        -0.11370127+9.37459186e-01j],\n",
       "       [ 1.        +0.00000000e+00j,  0.49448442-3.02524452e-01j,\n",
       "         0.74604521-5.80614342e-01j, -0.34108166+6.62548939e-01j,\n",
       "        -0.05848172+5.94339355e-01j],\n",
       "       [-0.37636035-7.21211848e-01j,  1.        -2.77555756e-17j,\n",
       "         0.78978079-4.33395645e-01j,  0.33687573+2.90923118e-01j,\n",
       "         0.59569476-4.97861886e-01j],\n",
       "       [ 0.71721062-4.61118745e-01j,  0.7151568 +4.29693255e-01j,\n",
       "         1.        -5.55111512e-17j, -0.22078193+6.18186121e-01j,\n",
       "         0.46984574+3.89835989e-01j],\n",
       "       [-0.03372816-5.59038000e-01j,  0.80521866+3.90441652e-01j,\n",
       "        -0.11181516+6.52280427e-01j,  0.66636042+6.53319584e-01j,\n",
       "         1.        +0.00000000e+00j],\n",
       "       [-0.08289301-1.55431278e-01j,  0.63443026-6.57204899e-01j,\n",
       "         1.        +0.00000000e+00j,  0.41876439-5.94064222e-01j,\n",
       "         0.88166204-4.34942862e-01j],\n",
       "       [-0.735618  -8.75400656e-02j,  0.47645065-2.31799409e-01j,\n",
       "        -0.07483768+6.80848472e-01j,  1.        -5.55111512e-17j,\n",
       "        -0.29555981-8.85864417e-01j],\n",
       "       [ 0.39764006+7.92989007e-02j,  0.41352198-2.63080469e-01j,\n",
       "         1.        +3.46944695e-18j, -0.02607787-5.58394377e-01j,\n",
       "         0.81005814+5.75197027e-01j],\n",
       "       [ 0.36997344+5.86457114e-01j, -0.01293579-3.10604835e-01j,\n",
       "         1.        +0.00000000e+00j, -0.22175948-9.34351624e-01j,\n",
       "        -0.10008269+8.86051518e-01j]])"
      ]
     },
     "metadata": {},
     "execution_count": 6
    }
   ],
   "metadata": {}
  },
  {
   "cell_type": "markdown",
   "source": [
    "We see that the largest coordinate of each point is 1+0.j. The reason for that is two-fold:\n",
    "\n",
    "1. The numerics are more stable when we work with points, which have affine coordinates in the range of $|x_i| < 1$.\n",
    "2. The coordinate with 1+0.j already specifies the ambient space patch we are working in.\n",
    "\n",
    "We can also check if these points are all really satisfying the hypersurface equation of the Calabi-Yau."
   ],
   "metadata": {}
  },
  {
   "cell_type": "code",
   "execution_count": 7,
   "source": [
    "pg.cy_condition(points)"
   ],
   "outputs": [
    {
     "output_type": "execute_result",
     "data": {
      "text/plain": [
       "array([ 2.44249065e-15+5.55111512e-16j,  2.25514052e-16+4.03149736e-15j,\n",
       "       -5.55111512e-17-3.94129174e-15j,  5.53415223e-15+2.23377072e-15j,\n",
       "       -1.88044025e-15+1.87176663e-15j,  1.22124533e-15+1.85268467e-15j,\n",
       "       -2.22044605e-16+9.85322934e-16j, -5.55111512e-16+2.77555756e-16j,\n",
       "       -8.88178420e-16+5.55111512e-17j, -1.05818132e-15-1.47451495e-16j,\n",
       "       -8.48930301e-16-8.58688121e-16j,  1.07147635e-15-3.20425110e-15j,\n",
       "        3.74700271e-16-3.02839351e-15j,  8.02580658e-16-1.43307810e-16j,\n",
       "        5.16513915e-16+2.09251019e-15j,  0.00000000e+00-1.11022302e-16j,\n",
       "        4.88498131e-15-2.96984659e-15j,  2.22044605e-16-1.38777878e-17j,\n",
       "        1.49880108e-14-1.13242749e-14j,  8.21565038e-15-5.88418203e-15j,\n",
       "        2.22044605e-16+8.46545056e-16j, -8.88178420e-16-2.08166817e-15j,\n",
       "       -1.35742112e-16-1.55431223e-15j, -7.49400542e-16-1.33226763e-15j,\n",
       "        1.47104551e-15-7.56339436e-16j, -6.72205347e-18+1.08420217e-16j,\n",
       "        2.63677968e-15-3.38618023e-15j,  0.00000000e+00-2.41473508e-15j,\n",
       "       -6.38378239e-16-3.88578059e-16j, -4.71844785e-16+1.66533454e-16j,\n",
       "        5.29090660e-16-1.56298585e-15j,  9.43689571e-16-4.61089500e-15j,\n",
       "        6.07153217e-16+5.55111512e-17j,  1.05471187e-15+7.77156117e-16j,\n",
       "       -9.02056208e-16-1.52655666e-16j, -1.11022302e-16+1.80411242e-15j,\n",
       "       -1.22124533e-15-4.16333634e-16j, -1.45716772e-15-2.04697370e-15j,\n",
       "       -3.10862447e-15+3.17020715e-16j,  6.34908792e-16+3.34801631e-16j,\n",
       "        3.44169138e-15+1.81452076e-15j,  3.33066907e-15+9.66240976e-16j,\n",
       "        6.32827124e-15+1.58553726e-15j,  6.21724894e-15-7.49400542e-16j,\n",
       "        4.44089210e-16+1.84574578e-15j, -3.53363172e-15-3.17801341e-15j,\n",
       "        5.55111512e-16-3.60822483e-16j,  9.99200722e-16+1.97064587e-15j,\n",
       "        0.00000000e+00+1.19348975e-15j,  4.16333634e-16+5.23886490e-16j,\n",
       "        7.77156117e-16-3.66026653e-16j, -9.64506253e-16-2.49800181e-16j,\n",
       "       -5.42893909e-16-8.41312087e-16j,  3.33066907e-16+7.21644966e-16j,\n",
       "       -4.44089210e-16-2.49800181e-16j,  7.72385628e-16+2.41690348e-15j,\n",
       "       -6.08887940e-16+6.58815450e-15j,  1.91860416e-15-2.21109481e-15j,\n",
       "       -4.00851227e-15-6.54130341e-15j,  1.16053001e-15+8.35377774e-16j,\n",
       "        1.98157333e-16-6.50033704e-16j,  1.96283961e-15-1.12345029e-15j,\n",
       "        1.51788304e-16+1.97326151e-15j,  2.58777375e-15-1.55084279e-15j,\n",
       "       -5.94142791e-16-1.02348685e-16j, -8.43769499e-15-1.00475184e-14j,\n",
       "        7.66053887e-15+1.17822418e-14j,  5.80091530e-15+7.28583860e-15j,\n",
       "       -6.66133815e-16-1.66672232e-14j,  1.45439216e-14+5.34294831e-15j,\n",
       "        6.41153797e-15-6.17561557e-16j,  6.21724894e-15-1.11022302e-15j,\n",
       "        0.00000000e+00-6.17561557e-16j, -7.73903511e-16+2.97505076e-16j,\n",
       "       -2.24820162e-15+3.34693211e-16j, -1.68615122e-15-8.49147141e-16j,\n",
       "       -7.19910243e-16+6.93889390e-16j, -2.20999705e-15+3.77909509e-15j,\n",
       "        9.99200722e-16+9.29811783e-16j, -3.26128013e-16+1.13103971e-15j,\n",
       "       -8.88178420e-16+3.59434704e-15j,  1.59872116e-14+4.46864767e-15j,\n",
       "        5.10702591e-15+3.66026653e-16j, -1.05471187e-15+8.32667268e-17j,\n",
       "        6.93889390e-17-1.52655666e-16j,  9.71445147e-16+1.31665512e-15j,\n",
       "        1.44328993e-15+4.99600361e-16j, -5.21804822e-15+7.21644966e-16j,\n",
       "       -6.10622664e-16+3.69149156e-15j, -8.88178420e-16-5.27355937e-16j,\n",
       "        1.99840144e-15-3.88578059e-16j, -2.64371858e-15+2.20613458e-15j,\n",
       "       -6.66133815e-16-1.47278023e-15j, -7.54951657e-15+2.10942375e-15j,\n",
       "        2.26901831e-15+3.19189120e-16j,  7.77156117e-16+4.16333634e-16j,\n",
       "        7.21644966e-16-1.66533454e-15j,  9.02056208e-17+1.23512311e-15j,\n",
       "        4.44089210e-16+2.76167977e-15j,  7.07767178e-16-2.16840434e-15j,\n",
       "        2.22044605e-16-9.99200722e-16j,  7.54951657e-15-5.66213743e-15j,\n",
       "        1.11022302e-15-5.55111512e-17j, -2.88657986e-15+2.53963517e-15j,\n",
       "        1.11022302e-15-3.94129174e-15j])"
      ]
     },
     "metadata": {},
     "execution_count": 7
    }
   ],
   "metadata": {}
  },
  {
   "cell_type": "markdown",
   "source": [
    "what we are really interested in from the *PointGenerator* is a training set for our neural networks. Such a training set can be generated as follows:"
   ],
   "metadata": {}
  },
  {
   "cell_type": "code",
   "execution_count": 8,
   "source": [
    "help(pg.prepare_dataset)"
   ],
   "outputs": [
    {
     "output_type": "stream",
     "name": "stdout",
     "text": [
      "Help on method prepare_dataset in module cymetric.pointgen.pointgen:\n",
      "\n",
      "prepare_dataset(n_p, dirname, val_split=0.1, ltails=0, rtails=0) method of cymetric.pointgen.pointgen.PointGenerator instance\n",
      "    Prepares training and validation data.\n",
      "    \n",
      "    Args:\n",
      "        n_p (int): Number of points to generate.\n",
      "        dirname (str): Directory name to save dataset in.\n",
      "        val_split (float, optional): train-val split. Defaults to 0.1.\n",
      "        ltails (float, optional): Percentage discarded on the left tail\n",
      "            of weight distribution. Defaults to 0.\n",
      "        rtails (float, optional): Percentage discarded on the right tail\n",
      "            of weight distribution. Defaults to 0.\n",
      "    \n",
      "    Returns:\n",
      "        int: 0\n",
      "\n"
     ]
    }
   ],
   "metadata": {}
  },
  {
   "cell_type": "markdown",
   "source": [
    "We specify the number of points and the directory name to save the file in. Note the file will always have the name *dataset.npz*."
   ],
   "metadata": {}
  },
  {
   "cell_type": "code",
   "execution_count": 9,
   "source": [
    "dirname = 'fermat_pg'\n",
    "n_p = 100000"
   ],
   "outputs": [],
   "metadata": {}
  },
  {
   "cell_type": "markdown",
   "source": [
    "and generate the dataset"
   ],
   "metadata": {}
  },
  {
   "cell_type": "code",
   "execution_count": 10,
   "source": [
    "pg.prepare_dataset(n_p, dirname)"
   ],
   "outputs": [
    {
     "output_type": "execute_result",
     "data": {
      "text/plain": [
       "0"
      ]
     },
     "metadata": {},
     "execution_count": 10
    }
   ],
   "metadata": {}
  },
  {
   "cell_type": "markdown",
   "source": [
    "We load the dataset with"
   ],
   "metadata": {}
  },
  {
   "cell_type": "code",
   "execution_count": 11,
   "source": [
    "data = np.load(os.path.join(dirname, 'dataset.npz'))"
   ],
   "outputs": [],
   "metadata": {}
  },
  {
   "cell_type": "markdown",
   "source": [
    "and study its content"
   ],
   "metadata": {}
  },
  {
   "cell_type": "code",
   "execution_count": 12,
   "source": [
    "for key in data:\n",
    "    print(key, type(data[key]))"
   ],
   "outputs": [
    {
     "output_type": "stream",
     "name": "stdout",
     "text": [
      "X_train <class 'numpy.ndarray'>\n",
      "y_train <class 'numpy.ndarray'>\n",
      "X_val <class 'numpy.ndarray'>\n",
      "y_val <class 'numpy.ndarray'>\n",
      "val_pullbacks <class 'numpy.ndarray'>\n"
     ]
    }
   ],
   "metadata": {}
  },
  {
   "cell_type": "markdown",
   "source": [
    "It contains training and validation data and the validation pullbacks. You might ask, what is written in the y_true values for validation and training data, given that we don't know the exact Ricci-flat metric. The 'y_train/val' arrays contain the integration weights and $\\Omega \\wedge \\bar\\Omega$ for each point. In principle, they can be used for any relevant pointwise information that could be needed during the training process."
   ],
   "metadata": {}
  },
  {
   "cell_type": "code",
   "execution_count": 13,
   "source": [
    "weights = data['y_val'][:,0]\n",
    "omega = data['y_val'][:,1]"
   ],
   "outputs": [],
   "metadata": {}
  },
  {
   "cell_type": "markdown",
   "source": [
    "we can also compute these values directly with the *PointGenerator*. Note, that the points in 'X_train/val' are floats, because our neural network will work with real values. We can recover the complex points as follows:"
   ],
   "metadata": {}
  },
  {
   "cell_type": "code",
   "execution_count": 14,
   "source": [
    "points = data['X_val'][:,0:pg.ncoords]+1.j*data['X_val'][:,pg.ncoords:]"
   ],
   "outputs": [],
   "metadata": {}
  },
  {
   "cell_type": "markdown",
   "source": [
    "and then compute the weights"
   ],
   "metadata": {}
  },
  {
   "cell_type": "code",
   "execution_count": 15,
   "source": [
    "weights2 = pg.point_weight(points)\n",
    "np.allclose(weights, weights2)"
   ],
   "outputs": [
    {
     "output_type": "execute_result",
     "data": {
      "text/plain": [
       "True"
      ]
     },
     "metadata": {},
     "execution_count": 15
    }
   ],
   "metadata": {}
  },
  {
   "cell_type": "markdown",
   "source": [
    "and the holomorphic volume form"
   ],
   "metadata": {}
  },
  {
   "cell_type": "code",
   "execution_count": 16,
   "source": [
    "omega2 = pg.holomorphic_volume_form(points)\n",
    "omega2 = omega2 * np.conj(omega2)\n",
    "np.allclose(omega, omega2)"
   ],
   "outputs": [
    {
     "output_type": "execute_result",
     "data": {
      "text/plain": [
       "True"
      ]
     },
     "metadata": {},
     "execution_count": 16
    }
   ],
   "metadata": {}
  },
  {
   "cell_type": "markdown",
   "source": [
    "We will have to give information of the monomials and their derivatives to the tensorflow model. For this purpose we will create pickled dictionary denoted by *BASIS*."
   ],
   "metadata": {}
  },
  {
   "cell_type": "code",
   "execution_count": 17,
   "source": [
    "pg.prepare_basis(dirname)"
   ],
   "outputs": [
    {
     "output_type": "execute_result",
     "data": {
      "text/plain": [
       "0"
      ]
     },
     "metadata": {},
     "execution_count": 17
    }
   ],
   "metadata": {}
  },
  {
   "cell_type": "markdown",
   "source": [
    "Let's have a look at the information stored in *basis.pickle*"
   ],
   "metadata": {}
  },
  {
   "cell_type": "code",
   "execution_count": 18,
   "source": [
    "with open(os.path.join(dirname, 'basis.pickle'), 'rb') as f:\n",
    "    basis = pickle.load(f)\n",
    "for key in basis:\n",
    "    print(key)"
   ],
   "outputs": [
    {
     "output_type": "stream",
     "name": "stdout",
     "text": [
      "DQDZB0\n",
      "DQDZF0\n",
      "QB0\n",
      "QF0\n",
      "NFOLD\n",
      "AMBIENT\n",
      "KMODULI\n",
      "NHYPER\n"
     ]
    }
   ],
   "metadata": {}
  },
  {
   "cell_type": "markdown",
   "source": [
    "So in case you want to use your own PointGenerator with our TensorFlow models you will have to create a similar basis dictionary. Here we briefly describe what each of these keys stands for. In general *Q* denotes the defining hypersurface(s) with the final integer digit denoting the hypersurface index. *D* refers to derivatives, *Z* to the ambient space coordinates, *B* to a monomials basis and *F* for factors/coefficients for each monomial.\n",
    "\n",
    "1. \"DQDZB0\": $\\frac{\\partial Q_0}{\\partial z_i}$ monomials basis of derivatives of the first (and only for quintic) hypersurface w.r.t. ambient coordinates. \n",
    "2. \"DQDZF0\": $\\frac{\\partial Q_0}{\\partial z_i}$ coefficients of the monomial basis.\n",
    "3. \"QB0\": monomials basis for first hypersurface\n",
    "4. \"QF0\": coefficients for monomial basis.\n",
    "5. \"NFOLD\": CY dimension.\n",
    "6. \"AMBIENT\": degrees of projective spaces making up the ambient space.\n",
    "6. \"KMODULI\": kähler moduli corresponding to each projective factors. Note the CY needs to be favourable, otherwise you will have some superposition.\n",
    "7. \"NHYPER\": number of hypersurfaces.\n",
    "\n",
    "That pretty much sums up our introduction to the *PointGenerator* class, next we will implement the Fermat quintic in the *CICYPointGenerator*."
   ],
   "metadata": {}
  },
  {
   "cell_type": "markdown",
   "source": [
    "## CICYPointGenerator\n",
    "\n",
    "The *CICYPointGenerator* and *ToricPointGenerator* come with the same functionality and routines as the *PointGenerator*. \n",
    "\n",
    "First we load from the cymetric package."
   ],
   "metadata": {}
  },
  {
   "cell_type": "code",
   "execution_count": 19,
   "source": [
    "from cymetric.pointgen.pointgen_cicy import CICYPointGenerator"
   ],
   "outputs": [],
   "metadata": {}
  },
  {
   "cell_type": "markdown",
   "source": [
    "In contrast to the *PointGenerator* the *CICYPointGenerator* expects a list of monomials and coefficients. We reuse our previous monomials (and coefficients) with"
   ],
   "metadata": {}
  },
  {
   "cell_type": "code",
   "execution_count": 20,
   "source": [
    "pgcicy = CICYPointGenerator([monomials], [coefficients], kmoduli, ambient)"
   ],
   "outputs": [],
   "metadata": {}
  },
  {
   "cell_type": "markdown",
   "source": [
    "we again create a dataset"
   ],
   "metadata": {}
  },
  {
   "cell_type": "code",
   "execution_count": 21,
   "source": [
    "dirname = 'fermat_pgcicy'"
   ],
   "outputs": [],
   "metadata": {}
  },
  {
   "cell_type": "code",
   "execution_count": 22,
   "source": [
    "pgcicy.prepare_dataset(n_p, dirname)"
   ],
   "outputs": [
    {
     "output_type": "stream",
     "name": "stderr",
     "text": [
      "/home/robin/miniconda3/lib/python3.9/site-packages/scipy/optimize/minpack.py:175: RuntimeWarning: The iteration is not making good progress, as measured by the \n",
      "  improvement from the last ten iterations.\n",
      "  warnings.warn(msg, RuntimeWarning)\n",
      "/home/robin/miniconda3/lib/python3.9/site-packages/scipy/optimize/minpack.py:175: RuntimeWarning: The iteration is not making good progress, as measured by the \n",
      "  improvement from the last ten iterations.\n",
      "  warnings.warn(msg, RuntimeWarning)\n",
      "/home/robin/miniconda3/lib/python3.9/site-packages/scipy/optimize/minpack.py:175: RuntimeWarning: The iteration is not making good progress, as measured by the \n",
      "  improvement from the last ten iterations.\n",
      "  warnings.warn(msg, RuntimeWarning)\n",
      "/home/robin/miniconda3/lib/python3.9/site-packages/scipy/optimize/minpack.py:175: RuntimeWarning: The iteration is not making good progress, as measured by the \n",
      "  improvement from the last ten iterations.\n",
      "  warnings.warn(msg, RuntimeWarning)\n",
      "/home/robin/miniconda3/lib/python3.9/site-packages/scipy/optimize/minpack.py:175: RuntimeWarning: The iteration is not making good progress, as measured by the \n",
      "  improvement from the last ten iterations.\n",
      "  warnings.warn(msg, RuntimeWarning)\n",
      "/home/robin/miniconda3/lib/python3.9/site-packages/scipy/optimize/minpack.py:175: RuntimeWarning: The iteration is not making good progress, as measured by the \n",
      "  improvement from the last ten iterations.\n",
      "  warnings.warn(msg, RuntimeWarning)\n",
      "/home/robin/miniconda3/lib/python3.9/site-packages/scipy/optimize/minpack.py:175: RuntimeWarning: The iteration is not making good progress, as measured by the \n",
      "  improvement from the last ten iterations.\n",
      "  warnings.warn(msg, RuntimeWarning)\n",
      "/home/robin/miniconda3/lib/python3.9/site-packages/scipy/optimize/minpack.py:175: RuntimeWarning: The iteration is not making good progress, as measured by the \n",
      "  improvement from the last ten iterations.\n",
      "  warnings.warn(msg, RuntimeWarning)\n",
      "/home/robin/miniconda3/lib/python3.9/site-packages/scipy/optimize/minpack.py:175: RuntimeWarning: The iteration is not making good progress, as measured by the \n",
      "  improvement from the last ten iterations.\n",
      "  warnings.warn(msg, RuntimeWarning)\n",
      "/home/robin/miniconda3/lib/python3.9/site-packages/scipy/optimize/minpack.py:175: RuntimeWarning: The iteration is not making good progress, as measured by the \n",
      "  improvement from the last five Jacobian evaluations.\n",
      "  warnings.warn(msg, RuntimeWarning)\n",
      "/home/robin/miniconda3/lib/python3.9/site-packages/scipy/optimize/minpack.py:175: RuntimeWarning: The iteration is not making good progress, as measured by the \n",
      "  improvement from the last five Jacobian evaluations.\n",
      "  warnings.warn(msg, RuntimeWarning)\n",
      "/home/robin/miniconda3/lib/python3.9/site-packages/scipy/optimize/minpack.py:175: RuntimeWarning: The iteration is not making good progress, as measured by the \n",
      "  improvement from the last five Jacobian evaluations.\n",
      "  warnings.warn(msg, RuntimeWarning)\n",
      "/home/robin/miniconda3/lib/python3.9/site-packages/scipy/optimize/minpack.py:175: RuntimeWarning: The iteration is not making good progress, as measured by the \n",
      "  improvement from the last ten iterations.\n",
      "  warnings.warn(msg, RuntimeWarning)\n",
      "/home/robin/miniconda3/lib/python3.9/site-packages/scipy/optimize/minpack.py:175: RuntimeWarning: The iteration is not making good progress, as measured by the \n",
      "  improvement from the last ten iterations.\n",
      "  warnings.warn(msg, RuntimeWarning)\n",
      "/home/robin/miniconda3/lib/python3.9/site-packages/scipy/optimize/minpack.py:175: RuntimeWarning: The iteration is not making good progress, as measured by the \n",
      "  improvement from the last ten iterations.\n",
      "  warnings.warn(msg, RuntimeWarning)\n",
      "/home/robin/miniconda3/lib/python3.9/site-packages/scipy/optimize/minpack.py:175: RuntimeWarning: The iteration is not making good progress, as measured by the \n",
      "  improvement from the last five Jacobian evaluations.\n",
      "  warnings.warn(msg, RuntimeWarning)\n",
      "/home/robin/miniconda3/lib/python3.9/site-packages/scipy/optimize/minpack.py:175: RuntimeWarning: The iteration is not making good progress, as measured by the \n",
      "  improvement from the last five Jacobian evaluations.\n",
      "  warnings.warn(msg, RuntimeWarning)\n",
      "/home/robin/miniconda3/lib/python3.9/site-packages/scipy/optimize/minpack.py:175: RuntimeWarning: The iteration is not making good progress, as measured by the \n",
      "  improvement from the last five Jacobian evaluations.\n",
      "  warnings.warn(msg, RuntimeWarning)\n",
      "/home/robin/miniconda3/lib/python3.9/site-packages/scipy/optimize/minpack.py:175: RuntimeWarning: The iteration is not making good progress, as measured by the \n",
      "  improvement from the last five Jacobian evaluations.\n",
      "  warnings.warn(msg, RuntimeWarning)\n",
      "/home/robin/miniconda3/lib/python3.9/site-packages/scipy/optimize/minpack.py:175: RuntimeWarning: The iteration is not making good progress, as measured by the \n",
      "  improvement from the last five Jacobian evaluations.\n",
      "  warnings.warn(msg, RuntimeWarning)\n"
     ]
    },
    {
     "output_type": "execute_result",
     "data": {
      "text/plain": [
       "0"
      ]
     },
     "metadata": {},
     "execution_count": 22
    }
   ],
   "metadata": {}
  },
  {
   "cell_type": "markdown",
   "source": [
    "as you might have realised, this took significantly longer than before. The reason for that is also related to all the warnings. The *CICYPointGenerator* utilises *scipy.optimize.fsolve* to find solutions on CICYs. *fsolve* only provides a single root of the defining hypersurfaces and requires more involved numerics, thus leading to worse performance (also in accuracy).\n",
    "\n",
    "We again create a basis for the tensorflow models"
   ],
   "metadata": {}
  },
  {
   "cell_type": "code",
   "execution_count": 23,
   "source": [
    "pgcicy.prepare_basis(dirname)\n",
    "with open(os.path.join(dirname, 'basis.pickle'), 'rb') as f:\n",
    "    basis = pickle.load(f)\n",
    "for key in basis:\n",
    "    print(key)"
   ],
   "outputs": [
    {
     "output_type": "stream",
     "name": "stdout",
     "text": [
      "DQDZB0\n",
      "DQDZF0\n",
      "QB0\n",
      "QF0\n",
      "NFOLD\n",
      "AMBIENT\n",
      "KMODULI\n",
      "NHYPER\n"
     ]
    }
   ],
   "metadata": {}
  },
  {
   "cell_type": "markdown",
   "source": [
    "and see that the keys are identical to before."
   ],
   "metadata": {}
  },
  {
   "cell_type": "markdown",
   "source": [
    "## ToricPointGenerator\n",
    "\n",
    "The *ToricPointGenerator* is somewhat special and requires additional input data generated from [SageMath](https://www.sagemath.org/). This *toric_data* can be straightforwardly generated in any sage kernel that has access to the *cymetric* package. In praxis only a single module is needed which can be found [here](../cymetric/sage/sagelib.py). \n",
    "\n",
    "The next cell won't work in your regular python notebook because it requires some sage routines for toric geometry. See [here](https://doc.sagemath.org/html/en/reference/schemes/sage/schemes/toric/variety.html) for more information about toric varieties and their implementation inn sage and [here](https://doc.sagemath.org/html/en/reference/discrete_geometry/sage/geometry/triangulation/point_configuration.html) for information about triangulations of PointCollections.\n",
    "\n",
    "We begin by setting up the quintic vertices, which define the fan of the toric ambient variety. After initialising said variety we load the *prepare_toric_cy_data()* routine and generate the neccessary data for the *ToricPointGenerator* and the toric TensorFlow models."
   ],
   "metadata": {}
  },
  {
   "cell_type": "code",
   "execution_count": 24,
   "source": [
    "#from cymetric.sage.sagelib import prepare_toric_cy_data\n",
    "#import os as os\n",
    "## Quintic vertices\n",
    "#vertices = [\n",
    "#    [1, 0, 0, 0], [0, 1, 0, 0], [0, 0, 1, 0], [0, 0, 0, 1], [-1, -1, -1, -1]\n",
    "#]\n",
    "#origin = [0 for _ in range(len(vertices[0]))]\n",
    "#polytope = LatticePolytope(vertices)\n",
    "#pConfig = PointConfiguration(polytope.points(), star=origin)\n",
    "##set to topcom for more efficient triangulations\n",
    "#pConfig.set_engine(\"TOPCOM\")\n",
    "## restrict to fine star regular.\n",
    "#triangulations = pConfig.restrict_to_connected_triangulations()\n",
    "#triangulations = triangulations.restrict_to_fine_triangulations()\n",
    "#triangulations = triangulations.restrict_to_regular_triangulations()\n",
    "#triangulations = triangulations.restrict_to_star_triangulations(origin)\n",
    "##take first triangulation; build fan and TV\n",
    "#triang = triangulations.triangulate()\n",
    "#tv_fan = triang.fan()\n",
    "#TV = ToricVariety(tv_fan)\n",
    "#fname = os.path.join('fermat_pgtoric', 'toric_data.pickle')\n",
    "#toric_data = prepare_toric_cy_data(TV, fname)"
   ],
   "outputs": [],
   "metadata": {}
  },
  {
   "cell_type": "markdown",
   "source": [
    "We are now in a position to go back to our regular python kernel or simply continue in Sage and load the *ToricPointGenerator*."
   ],
   "metadata": {}
  },
  {
   "cell_type": "code",
   "execution_count": 25,
   "source": [
    "from cymetric.pointgen.pointgen_toric import ToricPointGenerator"
   ],
   "outputs": [],
   "metadata": {}
  },
  {
   "cell_type": "markdown",
   "source": [
    "Let's have a look at the information that has been written to *toric_data.pickle*."
   ],
   "metadata": {}
  },
  {
   "cell_type": "code",
   "execution_count": 26,
   "source": [
    "dirname = 'fermat_pgtoric'\n",
    "with open(os.path.join(dirname, 'toric_data.pickle'), 'rb') as f:\n",
    "    toric_data = pickle.load(f)\n",
    "for key in toric_data:\n",
    "    print(key)\n",
    "    print(toric_data[key])"
   ],
   "outputs": [
    {
     "output_type": "stream",
     "name": "stdout",
     "text": [
      "dim_cy\n",
      "3\n",
      "vol_j_norm\n",
      "5\n",
      "coeff_aK\n",
      "[(-0.2960611459754949+0.45586456886531984j), (-2.0881286576829687-0.03929679960298018j), (1.2830990967696805-1.2875193493048591j), (1.3825815487656659+0.053908971048372036j), (0.0363216119948742+0.9651917862914251j), (0.49241042799951684+0.2871084697021768j), (-2.0300416932070715-0.5375686724929758j), (0.341264022079822-0.9772090037570772j), (0.14182832791411604+0.20666837391395337j), (0.5159286452639563-0.2187621719220717j), (2.0135694399931228+1.517360231898885j), (-0.10898182279047733-0.3024577838145956j), (-0.4647914419189523-0.08799362843383562j), (2.0471158317038918+0.5887474822414696j), (0.034025746118910065+1.6728897679263075j), (0.2436302945160277-0.3714315452724199j), (0.6568460314592613-0.02513115884747583j), (-0.11145418092746642+0.9801645189317999j), (1.3996470611411447-1.4808746581187278j), (-0.21335172522709628+0.4870041095597406j), (-0.41712282178439347+1.2516254768452837j), (1.326394526533905+0.7807967198366524j), (-0.2350407327329405+1.007442853389042j), (-2.694820856220191+0.3519989382234508j), (0.08442516930941227+0.5047349243953031j), (0.5685484178054695+0.09438776351580146j), (-0.6606045106264118-0.016616251704628927j), (0.6081369919224962-0.5819667191837911j), (1.4266212484812213+1.0213754320441293j), (0.5169242328788729+1.3973038606203099j), (-0.25576023407615583+0.8292328574963197j), (0.17166327753542432-1.1570566415378813j), (2.2755042277036632+0.5990729459015076j), (0.09087234332617804+0.9963477876410858j), (0.7238718459078113+1.3584870574807117j), (0.036138331293198774-0.2909010180673944j), (0.5825625846722096+0.4066706569321371j), (1.2677348873919079-1.9255637917320283j), (-1.0015350372004759+0.6527366135084385j), (-0.41874018873541446+1.2179962828336046j), (1.1592418673234028-1.2458845073591802j), (0.9760372279000067+1.1030250195554925j), (-0.773730230672901-0.47207992614980654j), (0.2407980092789699-0.4486091380660087j), (-1.4286008552201421-0.047545951883324486j), (1.6422321605324732-1.1178544227917306j), (0.16387880882057856+1.2395107964549101j), (0.4164818182588483-0.0006659221652646637j), (-0.4038476358344713+0.32094858895403805j), (1.8657962758163464-1.7519903732842126j), (-0.6005021510768147-0.11707755068511451j), (1.8591670460199916+1.8077156990118255j), (-2.4265896910601628-0.1194378900616301j), (-0.04190760214350927+0.23949688180242834j), (0.24081559877003245-2.3622611263113247j), (-0.38850635176255877+0.9066692600062658j), (0.3518174770349415+0.15369091486095215j), (0.7116323397534221+0.5798655302199457j), (-1.2316399712133481+0.11217576503642064j), (0.7447363471714267-2.363190197633103j), (-1.7364484352598786+1.271933957159151j), (0.5041176817265212+0.5078246616296335j), (0.4480643182928305+0.1891570304076373j), (0.38442682434316183+0.6305677056934117j), (0.28498166191723984-0.9587758489664366j), (1.031630672813925-0.28352159856677805j), (0.517268044125573+0.3573536869787312j), (-0.007678726237003083+0.2443590323108868j), (-0.36404956977302866+1.4520425905725882j), (-0.5725088437337932-0.2654273220741375j), (-0.4235875508300234-0.8483894024914705j), (-0.001909498402655913+1.3256390810301129j), (-0.3188030198984445-0.8400193253466418j), (0.07785365143589498-1.5107057084012365j), (0.5441455465335852-0.01030266942930412j), (-0.949721441644038-0.6375363122115308j), (0.4466778291364056+0.042107935935752516j), (-1.2564072937164108+0.04431108526164622j), (0.30523180489808344-1.8586180254085383j), (1.3719282604996748+0.6603838035421082j), (0.4284083659284212-0.36454064895737026j), (1.3966847707862893+0.40930882325902623j), (-0.11297309604178252-1.6962631419192071j), (0.48885409206912367-0.3599173180182032j), (1.350068581082695+1.6090134549989903j), (1.6782360888803958-0.21965081289400873j), (0.4688627132786969-0.22469316925140798j), (-0.09141485534652104-0.013375638671041294j), (-0.5001405990156463-1.5200703815261107j), (0.34494750878153474-0.9600180430598075j), (-1.5231379890984+0.5693603927069107j), (-0.7479734842418546+0.5569171127293698j), (1.156890237647245+0.43607749260491196j), (0.36478136308330733-0.1265065113230469j), (1.339782509321106-1.0493297720411416j), (-1.926093293208431+2.42173280131971j), (-0.026917267417941315-1.4111090085120424j), (0.9251953548647107+1.4929834595504397j), (1.6350571119006638+0.6677317323657683j), (0.4640228709068601+0.17702866099570624j), (-0.29783905582640174-0.5433916673671552j), (-0.00907875274112478-0.8054704692574274j), (-1.9042965032829677-0.15284437401694995j), (-0.15724097021210626-1.3579728773520738j), (-1.0503458022671348+1.7409392077844492j), (-0.22839338657704258-0.7859398008778713j), (-0.24338467057628252+1.2271440237829587j), (-0.9177766353293726-0.8575842804782626j), (-1.0031410170684358+0.5946992966983129j), (0.23910738295784997-1.5479763305844436j), (0.42996103489763415+1.0368490539854895j), (-0.059125686008023176+1.5307865909990521j), (-1.0666286695385843+0.4921478718030683j), (-0.01782971465915398+0.4276160525834694j), (1.210325590808527+0.8252631006044479j), (-0.17108008030848698+0.19354607835617404j), (-1.2279640987121423+0.8521063554532694j), (-0.7271117960127533-2.093194663942171j), (0.24490149096048636-1.101385429752599j), (1.7342471273639195+0.8748882994388381j), (0.47189837668672047+1.0467844364064132j), (-0.4708093410144191-0.6577771955830345j), (1.4897548864673449+0.4190800844871858j), (-0.10855174461939408+0.06671191993175596j), (-0.4202090080228611-0.4591339427944069j), (-0.11546760036537808-0.5018750816809807j)]\n",
      "exp_aK\n",
      "[[0, 0, 0, 0, 5], [0, 0, 0, 1, 4], [0, 0, 0, 2, 3], [0, 0, 0, 3, 2], [0, 0, 0, 4, 1], [0, 0, 0, 5, 0], [0, 0, 1, 0, 4], [0, 0, 1, 1, 3], [0, 0, 1, 2, 2], [0, 0, 1, 3, 1], [0, 0, 1, 4, 0], [0, 0, 2, 0, 3], [0, 0, 2, 1, 2], [0, 0, 2, 2, 1], [0, 0, 2, 3, 0], [0, 0, 3, 0, 2], [0, 0, 3, 1, 1], [0, 0, 3, 2, 0], [0, 0, 4, 0, 1], [0, 0, 4, 1, 0], [0, 0, 5, 0, 0], [0, 1, 0, 0, 4], [0, 1, 0, 1, 3], [0, 1, 0, 2, 2], [0, 1, 0, 3, 1], [0, 1, 0, 4, 0], [0, 1, 1, 0, 3], [0, 1, 1, 1, 2], [0, 1, 1, 2, 1], [0, 1, 1, 3, 0], [0, 1, 2, 0, 2], [0, 1, 2, 1, 1], [0, 1, 2, 2, 0], [0, 1, 3, 0, 1], [0, 1, 3, 1, 0], [0, 1, 4, 0, 0], [0, 2, 0, 0, 3], [0, 2, 0, 1, 2], [0, 2, 0, 2, 1], [0, 2, 0, 3, 0], [0, 2, 1, 0, 2], [0, 2, 1, 1, 1], [0, 2, 1, 2, 0], [0, 2, 2, 0, 1], [0, 2, 2, 1, 0], [0, 2, 3, 0, 0], [0, 3, 0, 0, 2], [0, 3, 0, 1, 1], [0, 3, 0, 2, 0], [0, 3, 1, 0, 1], [0, 3, 1, 1, 0], [0, 3, 2, 0, 0], [0, 4, 0, 0, 1], [0, 4, 0, 1, 0], [0, 4, 1, 0, 0], [0, 5, 0, 0, 0], [1, 0, 0, 0, 4], [1, 0, 0, 1, 3], [1, 0, 0, 2, 2], [1, 0, 0, 3, 1], [1, 0, 0, 4, 0], [1, 0, 1, 0, 3], [1, 0, 1, 1, 2], [1, 0, 1, 2, 1], [1, 0, 1, 3, 0], [1, 0, 2, 0, 2], [1, 0, 2, 1, 1], [1, 0, 2, 2, 0], [1, 0, 3, 0, 1], [1, 0, 3, 1, 0], [1, 0, 4, 0, 0], [1, 1, 0, 0, 3], [1, 1, 0, 1, 2], [1, 1, 0, 2, 1], [1, 1, 0, 3, 0], [1, 1, 1, 0, 2], [1, 1, 1, 1, 1], [1, 1, 1, 2, 0], [1, 1, 2, 0, 1], [1, 1, 2, 1, 0], [1, 1, 3, 0, 0], [1, 2, 0, 0, 2], [1, 2, 0, 1, 1], [1, 2, 0, 2, 0], [1, 2, 1, 0, 1], [1, 2, 1, 1, 0], [1, 2, 2, 0, 0], [1, 3, 0, 0, 1], [1, 3, 0, 1, 0], [1, 3, 1, 0, 0], [1, 4, 0, 0, 0], [2, 0, 0, 0, 3], [2, 0, 0, 1, 2], [2, 0, 0, 2, 1], [2, 0, 0, 3, 0], [2, 0, 1, 0, 2], [2, 0, 1, 1, 1], [2, 0, 1, 2, 0], [2, 0, 2, 0, 1], [2, 0, 2, 1, 0], [2, 0, 3, 0, 0], [2, 1, 0, 0, 2], [2, 1, 0, 1, 1], [2, 1, 0, 2, 0], [2, 1, 1, 0, 1], [2, 1, 1, 1, 0], [2, 1, 2, 0, 0], [2, 2, 0, 0, 1], [2, 2, 0, 1, 0], [2, 2, 1, 0, 0], [2, 3, 0, 0, 0], [3, 0, 0, 0, 2], [3, 0, 0, 1, 1], [3, 0, 0, 2, 0], [3, 0, 1, 0, 1], [3, 0, 1, 1, 0], [3, 0, 2, 0, 0], [3, 1, 0, 0, 1], [3, 1, 0, 1, 0], [3, 1, 1, 0, 0], [3, 2, 0, 0, 0], [4, 0, 0, 0, 1], [4, 0, 0, 1, 0], [4, 0, 1, 0, 0], [4, 1, 0, 0, 0], [5, 0, 0, 0, 0]]\n",
      "exps_sections\n",
      "[[[0, 0, 0, 0, 1], [0, 0, 0, 1, 0], [0, 0, 1, 0, 0], [0, 1, 0, 0, 0], [1, 0, 0, 0, 0]]]\n",
      "patch_masks\n",
      "[[0, 0, 0, 0, 1], [0, 0, 0, 1, 0], [0, 0, 1, 0, 0], [0, 1, 0, 0, 0], [1, 0, 0, 0, 0]]\n",
      "glsm_charges\n",
      "[[1, 1, 1, 1, 1]]\n",
      "triple\n",
      "[[[5]]]\n"
     ]
    }
   ],
   "metadata": {}
  },
  {
   "cell_type": "markdown",
   "source": [
    "We have the following keys:\n",
    "\n",
    "1. \"dim_cy\": contains the dimension of the Calabi-Yau.\n",
    "2. \"vol_j_norm\": information for normalisation of weights.\n",
    "2. \"coeff_aK\": are generic complex coefficients in front of each of the defining hypersurface monomials, which you get from the Batyrev construction. Note: Those are by default complex valued as they represent a (redundant) description of the complex moduli.\n",
    "3. \"exp_aK\": is the monomial basis for the defining equation.\n",
    "4. \"exps_sections\": is a monomial basis for the sections of the kähler cone generators. This one will be needed to generate the integration weights and a Kähler metric in the same Kähler class as our Ricci-flat metric.\n",
    "5. \"patch_masks\": are (boolean) coordinate masks for all the patches in the TV.\n",
    "6. \"glsm_charges\": are the GLSM charges of the TV.\n",
    "7. \"triple\": are the triple intersection numbers of the TV.\n",
    "\n",
    "Having loaded the toric_data we can initiallise the ToricPointGenerator"
   ],
   "metadata": {}
  },
  {
   "cell_type": "code",
   "execution_count": 27,
   "source": [
    "pgtoric_gen = ToricPointGenerator(toric_data, kmoduli)"
   ],
   "outputs": [],
   "metadata": {}
  },
  {
   "cell_type": "markdown",
   "source": [
    "We now have a generic quintic with coefficients in front of all 125 monomials.\n",
    "\n",
    "What if we only want the Fermat Quintic? We can override the information in \"coeff_aK\" and \"exp_aK\" with e.g."
   ],
   "metadata": {}
  },
  {
   "cell_type": "code",
   "execution_count": 28,
   "source": [
    "toric_data[\"coeff_aK\"] = coefficients\n",
    "toric_data[\"exp_aK\"] = monomials"
   ],
   "outputs": [],
   "metadata": {}
  },
  {
   "cell_type": "markdown",
   "source": [
    "and"
   ],
   "metadata": {}
  },
  {
   "cell_type": "code",
   "execution_count": 29,
   "source": [
    "pgtoric = ToricPointGenerator(toric_data, kmoduli)"
   ],
   "outputs": [],
   "metadata": {}
  },
  {
   "cell_type": "markdown",
   "source": [
    "we continue just as before with creating a dataset"
   ],
   "metadata": {}
  },
  {
   "cell_type": "code",
   "execution_count": 30,
   "source": [
    "pgtoric.prepare_dataset(n_p, dirname)"
   ],
   "outputs": [
    {
     "output_type": "stream",
     "name": "stderr",
     "text": [
      "/home/robin/miniconda3/lib/python3.9/site-packages/scipy/optimize/minpack.py:175: RuntimeWarning: The iteration is not making good progress, as measured by the \n",
      "  improvement from the last ten iterations.\n",
      "  warnings.warn(msg, RuntimeWarning)\n",
      "/home/robin/miniconda3/lib/python3.9/site-packages/scipy/optimize/minpack.py:175: RuntimeWarning: The iteration is not making good progress, as measured by the \n",
      "  improvement from the last ten iterations.\n",
      "  warnings.warn(msg, RuntimeWarning)\n",
      "/home/robin/miniconda3/lib/python3.9/site-packages/scipy/optimize/minpack.py:175: RuntimeWarning: The iteration is not making good progress, as measured by the \n",
      "  improvement from the last ten iterations.\n",
      "  warnings.warn(msg, RuntimeWarning)\n",
      "/home/robin/miniconda3/lib/python3.9/site-packages/scipy/optimize/minpack.py:175: RuntimeWarning: The iteration is not making good progress, as measured by the \n",
      "  improvement from the last ten iterations.\n",
      "  warnings.warn(msg, RuntimeWarning)\n",
      "/home/robin/miniconda3/lib/python3.9/site-packages/scipy/optimize/minpack.py:175: RuntimeWarning: The iteration is not making good progress, as measured by the \n",
      "  improvement from the last five Jacobian evaluations.\n",
      "  warnings.warn(msg, RuntimeWarning)\n",
      "/home/robin/miniconda3/lib/python3.9/site-packages/scipy/optimize/minpack.py:175: RuntimeWarning: The iteration is not making good progress, as measured by the \n",
      "  improvement from the last ten iterations.\n",
      "  warnings.warn(msg, RuntimeWarning)\n",
      "/home/robin/miniconda3/lib/python3.9/site-packages/scipy/optimize/minpack.py:175: RuntimeWarning: The iteration is not making good progress, as measured by the \n",
      "  improvement from the last ten iterations.\n",
      "  warnings.warn(msg, RuntimeWarning)\n",
      "/home/robin/miniconda3/lib/python3.9/site-packages/scipy/optimize/minpack.py:175: RuntimeWarning: The iteration is not making good progress, as measured by the \n",
      "  improvement from the last ten iterations.\n",
      "  warnings.warn(msg, RuntimeWarning)\n",
      "/home/robin/miniconda3/lib/python3.9/site-packages/scipy/optimize/minpack.py:175: RuntimeWarning: The iteration is not making good progress, as measured by the \n",
      "  improvement from the last five Jacobian evaluations.\n",
      "  warnings.warn(msg, RuntimeWarning)\n",
      "/home/robin/miniconda3/lib/python3.9/site-packages/scipy/optimize/minpack.py:175: RuntimeWarning: The iteration is not making good progress, as measured by the \n",
      "  improvement from the last ten iterations.\n",
      "  warnings.warn(msg, RuntimeWarning)\n",
      "/home/robin/miniconda3/lib/python3.9/site-packages/scipy/optimize/minpack.py:175: RuntimeWarning: The iteration is not making good progress, as measured by the \n",
      "  improvement from the last ten iterations.\n",
      "  warnings.warn(msg, RuntimeWarning)\n",
      "/home/robin/miniconda3/lib/python3.9/site-packages/scipy/optimize/minpack.py:175: RuntimeWarning: The iteration is not making good progress, as measured by the \n",
      "  improvement from the last ten iterations.\n",
      "  warnings.warn(msg, RuntimeWarning)\n",
      "/home/robin/miniconda3/lib/python3.9/site-packages/scipy/optimize/minpack.py:175: RuntimeWarning: The iteration is not making good progress, as measured by the \n",
      "  improvement from the last ten iterations.\n",
      "  warnings.warn(msg, RuntimeWarning)\n",
      "/home/robin/miniconda3/lib/python3.9/site-packages/scipy/optimize/minpack.py:175: RuntimeWarning: The iteration is not making good progress, as measured by the \n",
      "  improvement from the last five Jacobian evaluations.\n",
      "  warnings.warn(msg, RuntimeWarning)\n",
      "/home/robin/miniconda3/lib/python3.9/site-packages/scipy/optimize/minpack.py:175: RuntimeWarning: The iteration is not making good progress, as measured by the \n",
      "  improvement from the last five Jacobian evaluations.\n",
      "  warnings.warn(msg, RuntimeWarning)\n",
      "/home/robin/miniconda3/lib/python3.9/site-packages/scipy/optimize/minpack.py:175: RuntimeWarning: The iteration is not making good progress, as measured by the \n",
      "  improvement from the last ten iterations.\n",
      "  warnings.warn(msg, RuntimeWarning)\n",
      "/home/robin/miniconda3/lib/python3.9/site-packages/scipy/optimize/minpack.py:175: RuntimeWarning: The iteration is not making good progress, as measured by the \n",
      "  improvement from the last five Jacobian evaluations.\n",
      "  warnings.warn(msg, RuntimeWarning)\n",
      "/home/robin/miniconda3/lib/python3.9/site-packages/scipy/optimize/minpack.py:175: RuntimeWarning: The iteration is not making good progress, as measured by the \n",
      "  improvement from the last five Jacobian evaluations.\n",
      "  warnings.warn(msg, RuntimeWarning)\n",
      "/home/robin/miniconda3/lib/python3.9/site-packages/scipy/optimize/minpack.py:175: RuntimeWarning: The iteration is not making good progress, as measured by the \n",
      "  improvement from the last five Jacobian evaluations.\n",
      "  warnings.warn(msg, RuntimeWarning)\n",
      "/home/robin/miniconda3/lib/python3.9/site-packages/scipy/optimize/minpack.py:175: RuntimeWarning: The iteration is not making good progress, as measured by the \n",
      "  improvement from the last five Jacobian evaluations.\n",
      "  warnings.warn(msg, RuntimeWarning)\n",
      "/home/robin/miniconda3/lib/python3.9/site-packages/scipy/optimize/minpack.py:175: RuntimeWarning: The iteration is not making good progress, as measured by the \n",
      "  improvement from the last five Jacobian evaluations.\n",
      "  warnings.warn(msg, RuntimeWarning)\n",
      "/home/robin/miniconda3/lib/python3.9/site-packages/scipy/optimize/minpack.py:175: RuntimeWarning: The iteration is not making good progress, as measured by the \n",
      "  improvement from the last five Jacobian evaluations.\n",
      "  warnings.warn(msg, RuntimeWarning)\n",
      "/home/robin/miniconda3/lib/python3.9/site-packages/scipy/optimize/minpack.py:175: RuntimeWarning: The iteration is not making good progress, as measured by the \n",
      "  improvement from the last five Jacobian evaluations.\n",
      "  warnings.warn(msg, RuntimeWarning)\n",
      "/home/robin/miniconda3/lib/python3.9/site-packages/scipy/optimize/minpack.py:175: RuntimeWarning: The iteration is not making good progress, as measured by the \n",
      "  improvement from the last five Jacobian evaluations.\n",
      "  warnings.warn(msg, RuntimeWarning)\n",
      "/home/robin/miniconda3/lib/python3.9/site-packages/scipy/optimize/minpack.py:175: RuntimeWarning: The iteration is not making good progress, as measured by the \n",
      "  improvement from the last ten iterations.\n",
      "  warnings.warn(msg, RuntimeWarning)\n",
      "/home/robin/miniconda3/lib/python3.9/site-packages/scipy/optimize/minpack.py:175: RuntimeWarning: The iteration is not making good progress, as measured by the \n",
      "  improvement from the last ten iterations.\n",
      "  warnings.warn(msg, RuntimeWarning)\n",
      "/home/robin/miniconda3/lib/python3.9/site-packages/scipy/optimize/minpack.py:175: RuntimeWarning: The iteration is not making good progress, as measured by the \n",
      "  improvement from the last ten iterations.\n",
      "  warnings.warn(msg, RuntimeWarning)\n",
      "/home/robin/miniconda3/lib/python3.9/site-packages/scipy/optimize/minpack.py:175: RuntimeWarning: The iteration is not making good progress, as measured by the \n",
      "  improvement from the last ten iterations.\n",
      "  warnings.warn(msg, RuntimeWarning)\n",
      "/home/robin/miniconda3/lib/python3.9/site-packages/scipy/optimize/minpack.py:175: RuntimeWarning: The iteration is not making good progress, as measured by the \n",
      "  improvement from the last five Jacobian evaluations.\n",
      "  warnings.warn(msg, RuntimeWarning)\n",
      "/home/robin/miniconda3/lib/python3.9/site-packages/scipy/optimize/minpack.py:175: RuntimeWarning: The iteration is not making good progress, as measured by the \n",
      "  improvement from the last ten iterations.\n",
      "  warnings.warn(msg, RuntimeWarning)\n",
      "/home/robin/miniconda3/lib/python3.9/site-packages/scipy/optimize/minpack.py:175: RuntimeWarning: The iteration is not making good progress, as measured by the \n",
      "  improvement from the last ten iterations.\n",
      "  warnings.warn(msg, RuntimeWarning)\n",
      "/home/robin/miniconda3/lib/python3.9/site-packages/scipy/optimize/minpack.py:175: RuntimeWarning: The iteration is not making good progress, as measured by the \n",
      "  improvement from the last five Jacobian evaluations.\n",
      "  warnings.warn(msg, RuntimeWarning)\n",
      "/home/robin/miniconda3/lib/python3.9/site-packages/scipy/optimize/minpack.py:175: RuntimeWarning: The iteration is not making good progress, as measured by the \n",
      "  improvement from the last ten iterations.\n",
      "  warnings.warn(msg, RuntimeWarning)\n",
      "/home/robin/miniconda3/lib/python3.9/site-packages/scipy/optimize/minpack.py:175: RuntimeWarning: The iteration is not making good progress, as measured by the \n",
      "  improvement from the last ten iterations.\n",
      "  warnings.warn(msg, RuntimeWarning)\n"
     ]
    },
    {
     "output_type": "stream",
     "name": "stderr",
     "text": [
      "/home/robin/miniconda3/lib/python3.9/site-packages/scipy/optimize/minpack.py:175: RuntimeWarning: The iteration is not making good progress, as measured by the \n",
      "  improvement from the last ten iterations.\n",
      "  warnings.warn(msg, RuntimeWarning)\n",
      "/home/robin/miniconda3/lib/python3.9/site-packages/scipy/optimize/minpack.py:175: RuntimeWarning: The iteration is not making good progress, as measured by the \n",
      "  improvement from the last ten iterations.\n",
      "  warnings.warn(msg, RuntimeWarning)\n",
      "/home/robin/miniconda3/lib/python3.9/site-packages/scipy/optimize/minpack.py:175: RuntimeWarning: The iteration is not making good progress, as measured by the \n",
      "  improvement from the last five Jacobian evaluations.\n",
      "  warnings.warn(msg, RuntimeWarning)\n",
      "/home/robin/miniconda3/lib/python3.9/site-packages/scipy/optimize/minpack.py:175: RuntimeWarning: The iteration is not making good progress, as measured by the \n",
      "  improvement from the last ten iterations.\n",
      "  warnings.warn(msg, RuntimeWarning)\n",
      "/home/robin/miniconda3/lib/python3.9/site-packages/scipy/optimize/minpack.py:175: RuntimeWarning: The iteration is not making good progress, as measured by the \n",
      "  improvement from the last five Jacobian evaluations.\n",
      "  warnings.warn(msg, RuntimeWarning)\n",
      "/home/robin/miniconda3/lib/python3.9/site-packages/scipy/optimize/minpack.py:175: RuntimeWarning: The iteration is not making good progress, as measured by the \n",
      "  improvement from the last five Jacobian evaluations.\n",
      "  warnings.warn(msg, RuntimeWarning)\n",
      "/home/robin/miniconda3/lib/python3.9/site-packages/scipy/optimize/minpack.py:175: RuntimeWarning: The iteration is not making good progress, as measured by the \n",
      "  improvement from the last five Jacobian evaluations.\n",
      "  warnings.warn(msg, RuntimeWarning)\n",
      "/home/robin/miniconda3/lib/python3.9/site-packages/scipy/optimize/minpack.py:175: RuntimeWarning: The iteration is not making good progress, as measured by the \n",
      "  improvement from the last ten iterations.\n",
      "  warnings.warn(msg, RuntimeWarning)\n",
      "/home/robin/miniconda3/lib/python3.9/site-packages/scipy/optimize/minpack.py:175: RuntimeWarning: The iteration is not making good progress, as measured by the \n",
      "  improvement from the last five Jacobian evaluations.\n",
      "  warnings.warn(msg, RuntimeWarning)\n",
      "/home/robin/miniconda3/lib/python3.9/site-packages/scipy/optimize/minpack.py:175: RuntimeWarning: The iteration is not making good progress, as measured by the \n",
      "  improvement from the last five Jacobian evaluations.\n",
      "  warnings.warn(msg, RuntimeWarning)\n",
      "/home/robin/miniconda3/lib/python3.9/site-packages/scipy/optimize/minpack.py:175: RuntimeWarning: The iteration is not making good progress, as measured by the \n",
      "  improvement from the last five Jacobian evaluations.\n",
      "  warnings.warn(msg, RuntimeWarning)\n",
      "/home/robin/miniconda3/lib/python3.9/site-packages/scipy/optimize/minpack.py:175: RuntimeWarning: The iteration is not making good progress, as measured by the \n",
      "  improvement from the last five Jacobian evaluations.\n",
      "  warnings.warn(msg, RuntimeWarning)\n",
      "/home/robin/miniconda3/lib/python3.9/site-packages/scipy/optimize/minpack.py:175: RuntimeWarning: The iteration is not making good progress, as measured by the \n",
      "  improvement from the last five Jacobian evaluations.\n",
      "  warnings.warn(msg, RuntimeWarning)\n",
      "/home/robin/miniconda3/lib/python3.9/site-packages/scipy/optimize/minpack.py:175: RuntimeWarning: The iteration is not making good progress, as measured by the \n",
      "  improvement from the last five Jacobian evaluations.\n",
      "  warnings.warn(msg, RuntimeWarning)\n"
     ]
    },
    {
     "output_type": "execute_result",
     "data": {
      "text/plain": [
       "0"
      ]
     },
     "metadata": {},
     "execution_count": 30
    }
   ],
   "metadata": {}
  },
  {
   "cell_type": "markdown",
   "source": [
    "We note, that the data generation again took quite some time even though there should just be a single hypersurface. We also optimize w.r.t. to the sections coming from the Kähler generators and thus have more than a single hypersurface to consider.\n",
    "\n",
    "We create the *BASIS* containing all information for the TensorFlow models:"
   ],
   "metadata": {}
  },
  {
   "cell_type": "code",
   "execution_count": 31,
   "source": [
    "pgtoric.prepare_basis(dirname)\n",
    "with open(os.path.join(dirname, 'basis.pickle'), 'rb') as f:\n",
    "    basis = pickle.load(f)\n",
    "for key in basis:\n",
    "    print(key)"
   ],
   "outputs": [
    {
     "output_type": "stream",
     "name": "stdout",
     "text": [
      "DQDZB0\n",
      "DQDZF0\n",
      "QB0\n",
      "QF0\n",
      "NFOLD\n",
      "AMBIENT\n",
      "KMODULI\n",
      "NHYPER\n"
     ]
    }
   ],
   "metadata": {}
  },
  {
   "cell_type": "markdown",
   "source": [
    "In the next notebook we will load the *basis.pickle* and *toric_data.pickle* for the TensorFlow model. The information in *basis.pickle* will override what is written in *toric_data.pickle* so that the models know we want to work with the Fermat and not some generic quintic.\n",
    "\n",
    "We can also check if the points are all on the fermat:"
   ],
   "metadata": {}
  },
  {
   "cell_type": "code",
   "execution_count": 32,
   "source": [
    "data = np.load(os.path.join(dirname, 'dataset.npz'))\n",
    "points = data['X_val'][:,0:pg.ncoords]+1.j*data['X_val'][:,pg.ncoords:]"
   ],
   "outputs": [],
   "metadata": {}
  },
  {
   "cell_type": "markdown",
   "source": [
    "using the regular *PointGenerator*"
   ],
   "metadata": {}
  },
  {
   "cell_type": "code",
   "execution_count": 33,
   "source": [
    "np.sum(np.isclose(np.abs(pg.cy_condition(points)), 0))/len(points)"
   ],
   "outputs": [
    {
     "output_type": "execute_result",
     "data": {
      "text/plain": [
       "1.0"
      ]
     },
     "metadata": {},
     "execution_count": 33
    }
   ],
   "metadata": {}
  },
  {
   "cell_type": "markdown",
   "source": [
    "the toric"
   ],
   "metadata": {}
  },
  {
   "cell_type": "code",
   "execution_count": 34,
   "source": [
    "np.sum(np.isclose(np.abs(pgtoric.cy_condition(points)), 0))/len(points)"
   ],
   "outputs": [
    {
     "output_type": "execute_result",
     "data": {
      "text/plain": [
       "1.0"
      ]
     },
     "metadata": {},
     "execution_count": 34
    }
   ],
   "metadata": {
    "scrolled": true
   }
  },
  {
   "cell_type": "markdown",
   "source": [
    "and the cicy"
   ],
   "metadata": {}
  },
  {
   "cell_type": "code",
   "execution_count": 35,
   "source": [
    "np.sum(np.isclose(np.abs(pgcicy.cy_condition(points)), 0))/len(points)"
   ],
   "outputs": [
    {
     "output_type": "execute_result",
     "data": {
      "text/plain": [
       "1.0"
      ]
     },
     "metadata": {},
     "execution_count": 35
    }
   ],
   "metadata": {}
  }
 ],
 "metadata": {
  "kernelspec": {
   "display_name": "Python 3 (ipykernel)",
   "language": "python",
   "name": "python3"
  },
  "language_info": {
   "codemirror_mode": {
    "name": "ipython",
    "version": 3
   },
   "file_extension": ".py",
   "mimetype": "text/x-python",
   "name": "python",
   "nbconvert_exporter": "python",
   "pygments_lexer": "ipython3",
   "version": "3.9.5"
  }
 },
 "nbformat": 4,
 "nbformat_minor": 4
}